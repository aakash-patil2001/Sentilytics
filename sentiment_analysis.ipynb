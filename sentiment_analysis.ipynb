{
 "cells": [
  {
   "cell_type": "code",
   "execution_count": 23,
   "metadata": {},
   "outputs": [
    {
     "name": "stdout",
     "output_type": "stream",
     "text": [
      "Enter the stock symbol: infy\n"
     ]
    },
    {
     "name": "stderr",
     "output_type": "stream",
     "text": [
      "[nltk_data] Downloading package vader_lexicon to\n",
      "[nltk_data]     C:\\Users\\aakas\\AppData\\Roaming\\nltk_data...\n",
      "[nltk_data]   Package vader_lexicon is already up-to-date!\n"
     ]
    },
    {
     "data": {
      "image/png": "[encoded data removed]",
      "text/plain": [
       "<Figure size 576x432 with 1 Axes>"
      ]
     },
     "metadata": {
      "needs_background": "light"
     },
     "output_type": "display_data"
    },
    {
     "name": "stdout",
     "output_type": "stream",
     "text": [
      "85.0\n",
      "Positive\n"
     ]
    }
   ],
   "source": [
    "import requests\n",
    "import csv\n",
    "import pandas as pd\n",
    "import nltk\n",
    "from nltk.sentiment import SentimentIntensityAnalyzer\n",
    "import matplotlib.pyplot as plt\n",
    "\n",
    "# Stock symbol\n",
    "stock_symbol = input(\"Enter the stock symbol: \")\n",
    "stock_symbol = stock_symbol.upper()\n",
    "# NewsAPI settings\n",
    "news_api_key = '0594c37f48004f569aeb00bd94b8432e'\n",
    "news_api_url = f'https://newsapi.org/v2/everything?q={stock_symbol}&apiKey={news_api_key}'\n",
    "\n",
    "try:\n",
    "    # Send HTTP GET request to NewsAPI and retrieve the news articles\n",
    "    response = requests.get(news_api_url)\n",
    "    response.raise_for_status()\n",
    "    data = response.json()\n",
    "\n",
    "    # Store the news articles in a CSV file\n",
    "    csv_file = 'stock_news.csv'\n",
    "    fieldnames = ['Title', 'Source', 'Published At', 'Description', 'URL']\n",
    "\n",
    "    with open(csv_file, 'w', newline='', encoding='utf-8') as file:\n",
    "        writer = csv.DictWriter(file, fieldnames=fieldnames)\n",
    "        writer.writeheader()\n",
    "\n",
    "        for article in data['articles']:\n",
    "            title = article['title']\n",
    "            source = article['source']['name']\n",
    "            published_at = article['publishedAt']\n",
    "            description = article['description']\n",
    "            url = article['url']\n",
    "\n",
    "            writer.writerow({\n",
    "                'Title': title,\n",
    "                'Source': source,\n",
    "                'Published At': published_at,\n",
    "                'Description': description,\n",
    "                'URL': url\n",
    "            })\n",
    "\n",
    "    df = pd.read_csv('stock_news.csv', encoding=\"ISO-8859-1\")\n",
    "    df = df[['Description']]\n",
    "\n",
    "    # Remove missing values (NaN)\n",
    "    df.dropna(subset=['Description'], inplace=True)\n",
    "\n",
    "    # Removing punctuations\n",
    "    df.replace(\"[^a-zA-Z]\", \" \", regex=True, inplace=True)\n",
    "\n",
    "    # Converting to lower case\n",
    "    df['Description'] = df['Description'].str.lower()\n",
    "\n",
    "    nltk.download('vader_lexicon')\n",
    "    sia = SentimentIntensityAnalyzer()\n",
    "\n",
    "    # Perform sentiment analysis on each description\n",
    "    sentiment_scores = []\n",
    "    sentiment_labels = []\n",
    "\n",
    "    for description in df['Description']:\n",
    "        # Get sentiment polarity scores for the description\n",
    "        sentiment_score = sia.polarity_scores(description)\n",
    "\n",
    "        # Classify the sentiment label based on the compound score\n",
    "        if sentiment_score['compound'] >= 0.05:\n",
    "            sentiment_label = 'Positive'\n",
    "        elif sentiment_score['compound'] <= -0.05:\n",
    "            sentiment_label = 'Negative'\n",
    "        else:\n",
    "            sentiment_label = 'Neutral'\n",
    "\n",
    "        sentiment_scores.append(sentiment_score)\n",
    "        sentiment_labels.append(sentiment_label)\n",
    "\n",
    "    # Add sentiment scores and labels to the DataFrame\n",
    "    df['Sentiment Score'] = sentiment_scores\n",
    "    df['Sentiment Label'] = sentiment_labels\n",
    "\n",
    "    # Count the number of occurrences for each sentiment label\n",
    "    sentiment_counts = df['Sentiment Label'].value_counts()\n",
    "\n",
    "    # Create a bar plot to visualize the sentiment distribution\n",
    "    plt.figure(figsize=(8, 6))\n",
    "    plt.bar(sentiment_counts.index, sentiment_counts.values)\n",
    "    plt.xlabel('Sentiment Label')\n",
    "    plt.ylabel('Count')\n",
    "    plt.title('Sentiment Distribution')\n",
    "    plt.show()\n",
    "\n",
    "    # Calculate the percentage of positive news\n",
    "    positive_news = sentiment_counts['Positive']\n",
    "    negative_news = sentiment_counts['Negative']\n",
    "    total_news = positive_news + negative_news\n",
    "    positive_percentage = (positive_news / total_news) * 100\n",
    "\n",
    "    # Determine overall sentiment based on the percentage of positive news\n",
    "    if positive_percentage > 75:\n",
    "        overall_sentiment = 'Positive'\n",
    "    else:\n",
    "        overall_sentiment = 'Negative'    \n",
    "        \n",
    "    print(positive_percentage)\n",
    "    print(overall_sentiment)\n",
    "except requests.exceptions.HTTPError as err:\n",
    "    print(f'Error occurred while retrieving news articles: {err}')\n"
   ]
  },
  {
   "cell_type": "code",
   "execution_count": null,
   "metadata": {},
   "outputs": [],
   "source": []
  }
 ],
 "metadata": {
  "kernelspec": {
   "display_name": "Python 3",
   "language": "python",
   "name": "python3"
  },
  "language_info": {
   "codemirror_mode": {
    "name": "ipython",
    "version": 3
   },
   "file_extension": ".py",
   "mimetype": "text/x-python",
   "name": "python",
   "nbconvert_exporter": "python",
   "pygments_lexer": "ipython3",
   "version": "3.8.5"
  }
 },
 "nbformat": 4,
 "nbformat_minor": 4
}
